{
 "cells": [
  {
   "cell_type": "code",
   "execution_count": 2,
   "metadata": {},
   "outputs": [
    {
     "name": "stdout",
     "output_type": "stream",
     "text": [
      "0        14.013514\n",
      "1        24.255091\n",
      "2        53.686275\n",
      "3        12.537109\n",
      "4         2.098453\n",
      "           ...    \n",
      "53419     1.000000\n",
      "53420     1.000000\n",
      "53421     1.000000\n",
      "53422     1.000000\n",
      "53423     1.000000\n",
      "Name: conversion, Length: 53424, dtype: float64\n"
     ]
    }
   ],
   "source": [
    "import streamlit as st\n",
    "import numpy as np\n",
    "import pandas as pd\n",
    "import os\n",
    "os.environ['NUMEXPR_MAX_THREADS'] = '16'\n",
    "import numexpr as ne\n",
    "\n",
    "data = pd.read_csv('Desktop/Recommender/Project_3/New Product Offline.csv')\n",
    "#add = data.sum(axis = 0, skipna = True)\n",
    "#print(data['Orders']/add['Orders'])\n",
    "\n",
    "data = pd.read_csv('Desktop/Recommender/Project_3/New Item Offline.csv')\n",
    "data['conversion'] = data['Orders']/data['Users']\n",
    "print(data['conversion'])\n",
    "\n",
    "data1 = {\"ProductStyle\": [420, 380, 390],\n",
    "  \"\": [50, 40, 45]}\n"
   ]
  },
  {
   "cell_type": "code",
   "execution_count": null,
   "metadata": {},
   "outputs": [],
   "source": []
  }
 ],
 "metadata": {
  "kernelspec": {
   "display_name": "Python 3",
   "language": "python",
   "name": "python3"
  },
  "language_info": {
   "codemirror_mode": {
    "name": "ipython",
    "version": 3
   },
   "file_extension": ".py",
   "mimetype": "text/x-python",
   "name": "python",
   "nbconvert_exporter": "python",
   "pygments_lexer": "ipython3",
   "version": "3.8.5"
  }
 },
 "nbformat": 4,
 "nbformat_minor": 4
}
